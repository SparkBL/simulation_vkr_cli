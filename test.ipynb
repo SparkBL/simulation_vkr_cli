{
 "cells": [
  {
   "cell_type": "code",
   "execution_count": null,
   "metadata": {},
   "outputs": [
    {
     "ename": "",
     "evalue": "",
     "output_type": "error",
     "traceback": [
      "The kernel died. Error: /usr/bin/python: No module named ipykernel_launcher... View Jupyter <a href='command:jupyter.viewOutput'>log</a> for further details."
     ]
    }
   ],
   "source": [
    "import rq"
   ]
  },
  {
   "cell_type": "code",
   "execution_count": null,
   "metadata": {},
   "outputs": [
    {
     "ename": "",
     "evalue": "",
     "output_type": "error",
     "traceback": [
      "The kernel died. Error: /usr/bin/python: No module named ipykernel_launcher... View Jupyter <a href='command:jupyter.viewOutput'>log</a> for further details."
     ]
    }
   ],
   "source": [
    "\n",
    "d1 = rq.ExponentialDelay(0.1)\n",
    "\n",
    "model = rq.RqModel()\n",
    "model.init()\n",
    "model.add_producer(rq.SimpleInput(d1,0,0),\"input\")\n",
    "model.add_producer(rq.SimpleInput(d1,0,0),\"call\")\n",
    "model.add_producer(rq.RqtNode(d1,d1),\"node\")\n",
    "model.add_producer(rq.Orbit(d1),\"orbit\")\n",
    "model.add_producer(rq.StatCollector(5),\"stats\")\n",
    "\n",
    "\n"
   ]
  }
 ],
 "metadata": {
  "kernelspec": {
   "display_name": "Python 3 (ipykernel)",
   "language": "python",
   "name": "python3"
  },
  "orig_nbformat": 4
 },
 "nbformat": 4,
 "nbformat_minor": 2
}
